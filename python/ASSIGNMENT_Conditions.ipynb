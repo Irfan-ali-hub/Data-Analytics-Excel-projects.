{
 "cells": [
  {
   "cell_type": "code",
   "execution_count": null,
   "id": "4e3f5ba9-7ccc-4a1c-96e2-304c59173a30",
   "metadata": {},
   "outputs": [],
   "source": [
    "# Step 1: Take 5 numbers from the user\n",
    "a = int(input(\"Enter first number: \"))\n",
    "b = int(input(\"Enter second number: \"))\n",
    "c = int(input(\"Enter third number: \"))\n",
    "d = int(input(\"Enter fourth number: \"))\n",
    "# e = int(input(\"Enter fifth number: \"))\n",
    "\n",
    "if a>b:\n",
    "    a,b=b,a\n",
    "if b>c:\n",
    "    b,c=c,b\n",
    "if c>d:\n",
    "    c,d=d,c\n",
    "    \n",
    "print(a,b,c,d)"
   ]
  },
  {
   "cell_type": "code",
   "execution_count": 49,
   "id": "4e338fcd-50a6-4a09-86f8-4d28cbd4792f",
   "metadata": {},
   "outputs": [
    {
     "name": "stdout",
     "output_type": "stream",
     "text": [
      "the value of X -09876\n",
      "the value of Y 9876\n"
     ]
    },
    {
     "name": "stdout",
     "output_type": "stream",
     "text": [
      "third Quadrant\n"
     ]
    }
   ],
   "source": [
    "x=int(input(\"the value of X\"))\n",
    "y=int(input(\"the value of Y\"))\n",
    "\n",
    "if (x>0) and (y>0):\n",
    "    print(\"first Quadrant\")\n",
    "elif x>0 and y<0:\n",
    "    print(\"second Quadrant\")\n",
    "elif x<0 and y>0:\n",
    "    print(\"third Quadrant\")\n",
    "elif x<0 and y<0:\n",
    "    print(\"fourth Quadrant\")\n",
    "else:\n",
    "    print(\"invalid\")"
   ]
  },
  {
   "cell_type": "code",
   "execution_count": null,
   "id": "d6b09ca5-dc57-4a47-b574-e0f898d2adfc",
   "metadata": {},
   "outputs": [],
   "source": [
    "number=int(input('enter any number '))\n",
    "if number % 2 == 0:\n",
    "    print(number ,\" is even\")  \n",
    "else:\n",
    "    print(number,\"is odd\")\n",
    "    "
   ]
  },
  {
   "cell_type": "code",
   "execution_count": 53,
   "id": "5c9f1903-1b84-443d-b449-04b4f64ee72a",
   "metadata": {},
   "outputs": [
    {
     "name": "stdout",
     "output_type": "stream",
     "text": [
      "enter any number  000\n"
     ]
    },
    {
     "name": "stdout",
     "output_type": "stream",
     "text": [
      "0 number is Zero\n"
     ]
    }
   ],
   "source": [
    "number=int(input('enter any number '))\n",
    "if number>0:\n",
    "    print(number ,\"positive\") \n",
    "elif number<0:\n",
    "    print(number, \"Negative\")\n",
    "else:\n",
    "    print(number,\"number is Zero\")"
   ]
  },
  {
   "cell_type": "code",
   "execution_count": 38,
   "id": "43530e3d",
   "metadata": {},
   "outputs": [
    {
     "name": "stdout",
     "output_type": "stream",
     "text": [
      "enter any number 4440\n"
     ]
    },
    {
     "name": "stdout",
     "output_type": "stream",
     "text": [
      "this is divisble of 2 3 and 5\n"
     ]
    }
   ],
   "source": [
    "num=int(input(\"enter any number\"))\n",
    "if (num%2)==0 and (num%3)==0 and (num%5)==0:\n",
    "    print(\"this is divisble of 2 3 and 5\")\n",
    "elif (num %2==0)and(num%3==0):\n",
    "    print(\"this is divisble of 2 and 3\")\n",
    "elif(num%3==0)and(num%5==0):\n",
    "    print(\"this is divisble of 3 and 5\")\n",
    "elif(num %2==0)and(num%5==0):\n",
    "    print(\"this is divisble of 2 and 5\")\n",
    "elif(num %2==0):\n",
    "    print(\"this is divisvle of 2\")\n",
    "elif(num %3==0):\n",
    "    print(\"this is divisble of 3\")\n",
    "elif(num %5==0):\n",
    "    print(\"this is divisble of 5\")\n",
    "else:   \n",
    "    print(\"invalid integer\")"
   ]
  },
  {
   "cell_type": "code",
   "execution_count": 28,
   "id": "4c92f745",
   "metadata": {},
   "outputs": [
    {
     "name": "stdout",
     "output_type": "stream",
     "text": [
      "enter username  55\n",
      "enter password  44\n"
     ]
    },
    {
     "name": "stdout",
     "output_type": "stream",
     "text": [
      "Your usernam or password are incorrect\n"
     ]
    }
   ],
   "source": [
    "username=str(input('enter username '))\n",
    "password=str(input('enter password '))\n",
    "if username==\"student\" and password==\"student322\":\n",
    "             print(\"login successful\")\n",
    "elif username!=\"student\" and password!=\"student322\":\n",
    "             print(\"Your usernam or password are incorrect\")\n",
    "elif username!=\"student\" or password==\"student322\":\n",
    "             print(\"Your username is incorrect\")\n",
    "elif    username==\"student\" or  password!=\"student322\":\n",
    "             print(\"Your password is incorrect\")\n",
    "else:\n",
    "             print(\"Your username and password are incorrect\")\n",
    "            \n"
   ]
  },
  {
   "cell_type": "code",
   "execution_count": 1,
   "id": "cd423ddf-737c-4437-a93d-393bcd6a720d",
   "metadata": {},
   "outputs": [
    {
     "name": "stdout",
     "output_type": "stream",
     "text": [
      "your ticket price   50\n"
     ]
    }
   ],
   "source": [
    "ticket_price=int(input(\"ticket price\"))\n",
    "\n",
    "age=int(input(\"What is age\"))\n",
    "        \n",
    "\n",
    "if age<=5:\n",
    "    discount=ticket_price*40/100\n",
    "    print(\"your ticket price with discount is \", discount)\n",
    "elif age>5 and age<=18:\n",
    "    discount=ticket_price*20/100\n",
    "    print(\"your ticket price with discount is \", discount)\n",
    "elif age>=60:\n",
    "    discount=ticket_price*50/100\n",
    "    print(\"your ticket price with discount is \", discount)\n",
    "else:\n",
    "    discount=ticket_price\n",
    "    print(\"your ticket price  \", discount)\n",
    "\n",
    "\n",
    "    \n",
    "        "
   ]
  }
 ],
 "metadata": {
  "kernelspec": {
   "display_name": "myenv",
   "language": "python",
   "name": "python3"
  },
  "language_info": {
   "codemirror_mode": {
    "name": "ipython",
    "version": 3
   },
   "file_extension": ".py",
   "mimetype": "text/x-python",
   "name": "python",
   "nbconvert_exporter": "python",
   "pygments_lexer": "ipython3",
   "version": "3.10.18"
  }
 },
 "nbformat": 4,
 "nbformat_minor": 5
}
