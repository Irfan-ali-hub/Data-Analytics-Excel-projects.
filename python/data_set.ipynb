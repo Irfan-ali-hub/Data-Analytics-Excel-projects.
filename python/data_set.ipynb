{
 "cells": [
  {
   "cell_type": "markdown",
   "id": "663d8359",
   "metadata": {},
   "source": [
    "# 1 Create a list f 10 numbers and print them."
   ]
  },
  {
   "cell_type": "code",
   "execution_count": 2,
   "id": "8bab60a2",
   "metadata": {},
   "outputs": [
    {
     "name": "stdout",
     "output_type": "stream",
     "text": [
      "[1, 2, 3, 4, 5, 6, 7, 8, 9, 10]\n"
     ]
    }
   ],
   "source": [
    "num=[1,2,3,4,5,6,7,8,9,10]\n",
    "print(num)"
   ]
  },
  {
   "cell_type": "markdown",
   "id": "70948ebc",
   "metadata": {},
   "source": [
    "# 2 find the Sum of all elements in a list"
   ]
  },
  {
   "cell_type": "code",
   "execution_count": 3,
   "id": "4fc41190",
   "metadata": {},
   "outputs": [
    {
     "name": "stdout",
     "output_type": "stream",
     "text": [
      "55\n"
     ]
    }
   ],
   "source": [
    "print(sum(num))"
   ]
  },
  {
   "cell_type": "markdown",
   "id": "46e869ee",
   "metadata": {},
   "source": [
    "#  3 and 4 largest and smallest number of list\n"
   ]
  },
  {
   "cell_type": "code",
   "execution_count": 6,
   "id": "ec2d2efb",
   "metadata": {},
   "outputs": [
    {
     "name": "stdout",
     "output_type": "stream",
     "text": [
      "largest number of list is :   10\n",
      "Smalest Number of list is :   1\n"
     ]
    }
   ],
   "source": [
    "print(\"largest number of list is :  \",max(num))\n",
    "print(\"Smalest Number of list is :  \",min(num))"
   ]
  },
  {
   "cell_type": "markdown",
   "id": "e826da11",
   "metadata": {},
   "source": [
    "# 5 Reverse list"
   ]
  },
  {
   "cell_type": "code",
   "execution_count": 7,
   "id": "8143af17",
   "metadata": {},
   "outputs": [
    {
     "name": "stdout",
     "output_type": "stream",
     "text": [
      "Reverse list :  [10, 9, 8, 7, 6, 5, 4, 3, 2, 1]\n"
     ]
    }
   ],
   "source": [
    "print(\"Reverse list : \",num[::-1])"
   ]
  },
  {
   "cell_type": "markdown",
   "id": "fec075f6",
   "metadata": {},
   "source": [
    "# 6 Sorting in Accending order\n"
   ]
  },
  {
   "cell_type": "code",
   "execution_count": 35,
   "id": "28ccc095",
   "metadata": {},
   "outputs": [
    {
     "name": "stdout",
     "output_type": "stream",
     "text": [
      "Sorting in Accending order :  [1, 1, 2, 2, 2, 3, 3, 4, 5, 5, 6, 6, 6, 7, 8, 9, 12, 24]\n"
     ]
    }
   ],
   "source": [
    "random_num=[3,4,2,6,9,8,3,2,24,6,12,1,5,5,7,6,2,1,]\n",
    "print(\"Sorting in Accending order : \",sorted(random_num))"
   ]
  },
  {
   "cell_type": "markdown",
   "id": "006909c3",
   "metadata": {},
   "source": [
    "# 7 Sorting in Decending order"
   ]
  },
  {
   "cell_type": "code",
   "execution_count": 46,
   "id": "bc03c89e",
   "metadata": {},
   "outputs": [
    {
     "name": "stdout",
     "output_type": "stream",
     "text": [
      "sorting in descending order :  [24, 12, 9, 8, 7, 6, 6, 6, 5, 5, 4, 3, 3, 2, 2, 2, 1, 1]\n"
     ]
    }
   ],
   "source": [
    "print(\"sorting in descending order : \",sorted(random_num ,reverse=True))"
   ]
  },
  {
   "cell_type": "markdown",
   "id": "41492f52",
   "metadata": {},
   "source": [
    "# 8 count how many times a number appears in a list"
   ]
  },
  {
   "cell_type": "code",
   "execution_count": 52,
   "id": "4477b233",
   "metadata": {},
   "outputs": [
    {
     "name": "stdout",
     "output_type": "stream",
     "text": [
      "3\n",
      "2\n"
     ]
    }
   ],
   "source": [
    "print(random_num.count(2))\n",
    "print(random_num.count(5))"
   ]
  },
  {
   "cell_type": "markdown",
   "id": "914508b5",
   "metadata": {},
   "source": [
    "# 9 Remove duplicates"
   ]
  },
  {
   "cell_type": "code",
   "execution_count": 58,
   "id": "c627f44a",
   "metadata": {},
   "outputs": [
    {
     "name": "stdout",
     "output_type": "stream",
     "text": [
      "After removing duplicates :  {1, 2, 3, 4, 5, 6, 7, 8, 9, 12, 24}\n"
     ]
    }
   ],
   "source": [
    "new=set(random_num)\n",
    "print(\"After removing duplicates : \",new)"
   ]
  },
  {
   "cell_type": "markdown",
   "id": "b9d2982f",
   "metadata": {},
   "source": [
    "# 10 find the average of numbers in a list"
   ]
  },
  {
   "cell_type": "code",
   "execution_count": 62,
   "id": "827ee3b6",
   "metadata": {},
   "outputs": [
    {
     "name": "stdout",
     "output_type": "stream",
     "text": [
      "7.363636363636363\n"
     ]
    }
   ],
   "source": [
    "print(sum(new)/len(new))"
   ]
  },
  {
   "cell_type": "markdown",
   "id": "317bde97",
   "metadata": {},
   "source": [
    "# 11 take 5 number from user and store them in list"
   ]
  },
  {
   "cell_type": "code",
   "execution_count": 78,
   "id": "a19507fe",
   "metadata": {},
   "outputs": [
    {
     "name": "stdout",
     "output_type": "stream",
     "text": [
      "None\n",
      "None\n",
      "None\n",
      "None\n",
      "None\n",
      "Your list is :  [20, 30, 40, 50, 60]\n"
     ]
    }
   ],
   "source": [
    "mylist=[]\n",
    "print(mylist.append(int(input(\"enter any number please:\"))))\n",
    "print(mylist.append(int(input(\"enter any number again  please:\"))))\n",
    "print(mylist.append(int(input(\"enter any number again please:\"))))\n",
    "print(mylist.append(int(input(\"enter any number again please:\"))))\n",
    "print(mylist.append(int(input(\"enter any number again please:\"))))\n",
    "print(\"Your list is : \",mylist)"
   ]
  },
  {
   "cell_type": "markdown",
   "id": "3cec182b",
   "metadata": {},
   "source": [
    "# 12 Check if a given Element exists in a list"
   ]
  },
  {
   "cell_type": "code",
   "execution_count": 97,
   "id": "d9daf60e",
   "metadata": {},
   "outputs": [
    {
     "name": "stdout",
     "output_type": "stream",
     "text": [
      "[30, 40, 50, 60, 70, [...], [...], [...]]\n",
      "True\n"
     ]
    }
   ],
   "source": [
    "print(num)\n",
    "print(40 in num)"
   ]
  },
  {
   "cell_type": "markdown",
   "id": "77f4d241",
   "metadata": {},
   "source": [
    "# 13 Concatenate two lists into one"
   ]
  },
  {
   "cell_type": "code",
   "execution_count": 98,
   "id": "42491f37",
   "metadata": {},
   "outputs": [
    {
     "name": "stdout",
     "output_type": "stream",
     "text": [
      "First list is :  [30, 40, 50, 60, 70, [...], [...], [...]]\n",
      "Second list is :  [20, 30, 40, 50, 60]\n",
      "----------------NOW -----CONCATENATION -----IS -----WORKING-------------------\n",
      "After concatenation :  [30, 40, 50, 60, 70, [...], [...], [...], [20, 30, 40, 50, 60]]\n"
     ]
    }
   ],
   "source": [
    "print(\"First list is : \",num)\n",
    "print(\"Second list is : \",mylist)\n",
    "print('----------------NOW -----CONCATENATION -----IS -----WORKING-------------------')\n",
    "num.append(mylist)\n",
    "print(\"After concatenation : \",num)"
   ]
  },
  {
   "cell_type": "markdown",
   "id": "2ad6fbec",
   "metadata": {},
   "source": [
    "# 14 and 15 slice a list to get the first 3 elements."
   ]
  },
  {
   "cell_type": "code",
   "execution_count": 108,
   "id": "f8c485c5",
   "metadata": {},
   "outputs": [
    {
     "name": "stdout",
     "output_type": "stream",
     "text": [
      "['carrot', 'potato', 'onion']\n",
      "['spinach', 'broccoli', 'cabbage']\n"
     ]
    }
   ],
   "source": [
    "vegetable=['carrot','potato','onion','cabbage','broccoli','spinach']\n",
    "print(vegetable[:3])\n",
    "print(vegetable[:-4:-1])"
   ]
  },
  {
   "cell_type": "markdown",
   "id": "8e1ad949",
   "metadata": {},
   "source": [
    "#   16 replace the second element of a list with a new value"
   ]
  },
  {
   "cell_type": "code",
   "execution_count": 109,
   "id": "c70bb0cb",
   "metadata": {},
   "outputs": [],
   "source": [
    "vegetable[1]=\"banana\""
   ]
  },
  {
   "cell_type": "code",
   "execution_count": 110,
   "id": "7870aef1",
   "metadata": {},
   "outputs": [
    {
     "name": "stdout",
     "output_type": "stream",
     "text": [
      "['carrot', 'banana', 'onion', 'cabbage', 'broccoli', 'spinach']\n"
     ]
    }
   ],
   "source": [
    "print(vegetable)"
   ]
  },
  {
   "cell_type": "markdown",
   "id": "ddb90784",
   "metadata": {},
   "source": [
    "# 17 Insert a number at the 3rd positionn in a list"
   ]
  },
  {
   "cell_type": "code",
   "execution_count": null,
   "id": "34960614",
   "metadata": {},
   "outputs": [
    {
     "ename": "AttributeError",
     "evalue": "'tuple' object has no attribute 'append'",
     "output_type": "error",
     "traceback": [
      "\u001b[31m---------------------------------------------------------------------------\u001b[39m",
      "\u001b[31mAttributeError\u001b[39m                            Traceback (most recent call last)",
      "\u001b[36mCell\u001b[39m\u001b[36m \u001b[39m\u001b[32mIn[125]\u001b[39m\u001b[32m, line 1\u001b[39m\n\u001b[32m----> \u001b[39m\u001b[32m1\u001b[39m \u001b[43mvegetable\u001b[49m\u001b[43m.\u001b[49m\u001b[43mappend\u001b[49m[\u001b[32m2\u001b[39m:\u001b[32m3\u001b[39m]\n",
      "\u001b[31mAttributeError\u001b[39m: 'tuple' object has no attribute 'append'"
     ]
    }
   ],
   "source": []
  },
  {
   "cell_type": "code",
   "execution_count": 122,
   "id": "fd0537a7",
   "metadata": {},
   "outputs": [
    {
     "name": "stdout",
     "output_type": "stream",
     "text": [
      "([2], [23])\n"
     ]
    }
   ],
   "source": [
    "print(vegetable)"
   ]
  }
 ],
 "metadata": {
  "kernelspec": {
   "display_name": "base",
   "language": "python",
   "name": "python3"
  },
  "language_info": {
   "codemirror_mode": {
    "name": "ipython",
    "version": 3
   },
   "file_extension": ".py",
   "mimetype": "text/x-python",
   "name": "python",
   "nbconvert_exporter": "python",
   "pygments_lexer": "ipython3",
   "version": "3.13.7"
  }
 },
 "nbformat": 4,
 "nbformat_minor": 5
}
